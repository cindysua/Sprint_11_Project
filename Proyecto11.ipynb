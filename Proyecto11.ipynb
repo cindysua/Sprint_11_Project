{
 "cells": [
  {
   "cell_type": "markdown",
   "metadata": {},
   "source": [
    "# PROYECTO SPRINT 11"
   ]
  },
  {
   "cell_type": "code",
   "execution_count": 2919,
   "metadata": {},
   "outputs": [],
   "source": [
    "# Importación de librerías\n",
    "import pandas as pd\n",
    "import numpy as np\n",
    "from scipy import stats as st\n",
    "import matplotlib.pyplot as plt\n",
    "import seaborn as sns\n",
    "import math as mth"
   ]
  },
  {
   "cell_type": "code",
   "execution_count": 2920,
   "metadata": {},
   "outputs": [
    {
     "data": {
      "text/html": [
       "<div>\n",
       "<style scoped>\n",
       "    .dataframe tbody tr th:only-of-type {\n",
       "        vertical-align: middle;\n",
       "    }\n",
       "\n",
       "    .dataframe tbody tr th {\n",
       "        vertical-align: top;\n",
       "    }\n",
       "\n",
       "    .dataframe thead th {\n",
       "        text-align: right;\n",
       "    }\n",
       "</style>\n",
       "<table border=\"1\" class=\"dataframe\">\n",
       "  <thead>\n",
       "    <tr style=\"text-align: right;\">\n",
       "      <th></th>\n",
       "      <th>EventName</th>\n",
       "      <th>DeviceIDHash</th>\n",
       "      <th>EventTimestamp</th>\n",
       "      <th>ExpId</th>\n",
       "    </tr>\n",
       "  </thead>\n",
       "  <tbody>\n",
       "    <tr>\n",
       "      <th>0</th>\n",
       "      <td>MainScreenAppear</td>\n",
       "      <td>4575588528974610257</td>\n",
       "      <td>1564029816</td>\n",
       "      <td>246</td>\n",
       "    </tr>\n",
       "    <tr>\n",
       "      <th>1</th>\n",
       "      <td>MainScreenAppear</td>\n",
       "      <td>7416695313311560658</td>\n",
       "      <td>1564053102</td>\n",
       "      <td>246</td>\n",
       "    </tr>\n",
       "    <tr>\n",
       "      <th>2</th>\n",
       "      <td>PaymentScreenSuccessful</td>\n",
       "      <td>3518123091307005509</td>\n",
       "      <td>1564054127</td>\n",
       "      <td>248</td>\n",
       "    </tr>\n",
       "    <tr>\n",
       "      <th>3</th>\n",
       "      <td>CartScreenAppear</td>\n",
       "      <td>3518123091307005509</td>\n",
       "      <td>1564054127</td>\n",
       "      <td>248</td>\n",
       "    </tr>\n",
       "    <tr>\n",
       "      <th>4</th>\n",
       "      <td>PaymentScreenSuccessful</td>\n",
       "      <td>6217807653094995999</td>\n",
       "      <td>1564055322</td>\n",
       "      <td>248</td>\n",
       "    </tr>\n",
       "  </tbody>\n",
       "</table>\n",
       "</div>"
      ],
      "text/plain": [
       "                 EventName         DeviceIDHash  EventTimestamp  ExpId\n",
       "0         MainScreenAppear  4575588528974610257      1564029816    246\n",
       "1         MainScreenAppear  7416695313311560658      1564053102    246\n",
       "2  PaymentScreenSuccessful  3518123091307005509      1564054127    248\n",
       "3         CartScreenAppear  3518123091307005509      1564054127    248\n",
       "4  PaymentScreenSuccessful  6217807653094995999      1564055322    248"
      ]
     },
     "execution_count": 2920,
     "metadata": {},
     "output_type": "execute_result"
    }
   ],
   "source": [
    "# Lectura de archivo\n",
    "data = pd.read_csv('logs_exp_us.csv', sep='\\t')\n",
    "data.head(5)"
   ]
  },
  {
   "cell_type": "markdown",
   "metadata": {},
   "source": [
    "## 1. Preparación de datos"
   ]
  },
  {
   "cell_type": "code",
   "execution_count": 2921,
   "metadata": {},
   "outputs": [
    {
     "name": "stdout",
     "output_type": "stream",
     "text": [
      "<class 'pandas.core.frame.DataFrame'>\n",
      "RangeIndex: 244126 entries, 0 to 244125\n",
      "Data columns (total 4 columns):\n",
      " #   Column          Non-Null Count   Dtype \n",
      "---  ------          --------------   ----- \n",
      " 0   EventName       244126 non-null  object\n",
      " 1   DeviceIDHash    244126 non-null  int64 \n",
      " 2   EventTimestamp  244126 non-null  int64 \n",
      " 3   ExpId           244126 non-null  int64 \n",
      "dtypes: int64(3), object(1)\n",
      "memory usage: 7.5+ MB\n"
     ]
    }
   ],
   "source": [
    "# Revisar tipos de datos y datos ausentes\n",
    "data.info()"
   ]
  },
  {
   "cell_type": "markdown",
   "metadata": {},
   "source": [
    "No hay datos ausentes"
   ]
  },
  {
   "cell_type": "code",
   "execution_count": 2922,
   "metadata": {},
   "outputs": [
    {
     "data": {
      "text/plain": [
       "413"
      ]
     },
     "execution_count": 2922,
     "metadata": {},
     "output_type": "execute_result"
    }
   ],
   "source": [
    "# Verificación de filas duplicadas\n",
    "data.duplicated().sum()"
   ]
  },
  {
   "cell_type": "markdown",
   "metadata": {},
   "source": [
    "Existen 413 filas duplicadas"
   ]
  },
  {
   "cell_type": "code",
   "execution_count": 2923,
   "metadata": {},
   "outputs": [
    {
     "data": {
      "text/html": [
       "<div>\n",
       "<style scoped>\n",
       "    .dataframe tbody tr th:only-of-type {\n",
       "        vertical-align: middle;\n",
       "    }\n",
       "\n",
       "    .dataframe tbody tr th {\n",
       "        vertical-align: top;\n",
       "    }\n",
       "\n",
       "    .dataframe thead th {\n",
       "        text-align: right;\n",
       "    }\n",
       "</style>\n",
       "<table border=\"1\" class=\"dataframe\">\n",
       "  <thead>\n",
       "    <tr style=\"text-align: right;\">\n",
       "      <th></th>\n",
       "      <th>EventName</th>\n",
       "      <th>DeviceIDHash</th>\n",
       "      <th>EventTimestamp</th>\n",
       "      <th>ExpId</th>\n",
       "    </tr>\n",
       "  </thead>\n",
       "  <tbody>\n",
       "    <tr>\n",
       "      <th>453</th>\n",
       "      <td>MainScreenAppear</td>\n",
       "      <td>5613408041324010552</td>\n",
       "      <td>1564474784</td>\n",
       "      <td>248</td>\n",
       "    </tr>\n",
       "    <tr>\n",
       "      <th>2350</th>\n",
       "      <td>CartScreenAppear</td>\n",
       "      <td>1694940645335807244</td>\n",
       "      <td>1564609899</td>\n",
       "      <td>248</td>\n",
       "    </tr>\n",
       "    <tr>\n",
       "      <th>3573</th>\n",
       "      <td>MainScreenAppear</td>\n",
       "      <td>434103746454591587</td>\n",
       "      <td>1564628377</td>\n",
       "      <td>248</td>\n",
       "    </tr>\n",
       "    <tr>\n",
       "      <th>4076</th>\n",
       "      <td>MainScreenAppear</td>\n",
       "      <td>3761373764179762633</td>\n",
       "      <td>1564631266</td>\n",
       "      <td>247</td>\n",
       "    </tr>\n",
       "    <tr>\n",
       "      <th>4803</th>\n",
       "      <td>MainScreenAppear</td>\n",
       "      <td>2835328739789306622</td>\n",
       "      <td>1564634641</td>\n",
       "      <td>248</td>\n",
       "    </tr>\n",
       "  </tbody>\n",
       "</table>\n",
       "</div>"
      ],
      "text/plain": [
       "             EventName         DeviceIDHash  EventTimestamp  ExpId\n",
       "453   MainScreenAppear  5613408041324010552      1564474784    248\n",
       "2350  CartScreenAppear  1694940645335807244      1564609899    248\n",
       "3573  MainScreenAppear   434103746454591587      1564628377    248\n",
       "4076  MainScreenAppear  3761373764179762633      1564631266    247\n",
       "4803  MainScreenAppear  2835328739789306622      1564634641    248"
      ]
     },
     "execution_count": 2923,
     "metadata": {},
     "output_type": "execute_result"
    }
   ],
   "source": [
    "duplicated_rows = data[data.duplicated()]\n",
    "duplicated_rows.head(5)"
   ]
  },
  {
   "cell_type": "markdown",
   "metadata": {},
   "source": [
    "Las filas duplicadas, corresponden a un 0,17% de las filas del dataframe por lo cual no hay relevancia alguna si se eliminan. "
   ]
  },
  {
   "cell_type": "code",
   "execution_count": 2924,
   "metadata": {},
   "outputs": [
    {
     "data": {
      "text/plain": [
       "0"
      ]
     },
     "execution_count": 2924,
     "metadata": {},
     "output_type": "execute_result"
    }
   ],
   "source": [
    "# Eliminación de filas duplicadas\n",
    "data = data.drop_duplicates()\n",
    "data.duplicated().sum()"
   ]
  },
  {
   "cell_type": "code",
   "execution_count": 2925,
   "metadata": {},
   "outputs": [
    {
     "data": {
      "text/html": [
       "<div>\n",
       "<style scoped>\n",
       "    .dataframe tbody tr th:only-of-type {\n",
       "        vertical-align: middle;\n",
       "    }\n",
       "\n",
       "    .dataframe tbody tr th {\n",
       "        vertical-align: top;\n",
       "    }\n",
       "\n",
       "    .dataframe thead th {\n",
       "        text-align: right;\n",
       "    }\n",
       "</style>\n",
       "<table border=\"1\" class=\"dataframe\">\n",
       "  <thead>\n",
       "    <tr style=\"text-align: right;\">\n",
       "      <th></th>\n",
       "      <th>event_name</th>\n",
       "      <th>user_id</th>\n",
       "      <th>event_time</th>\n",
       "      <th>exp_id</th>\n",
       "    </tr>\n",
       "  </thead>\n",
       "  <tbody>\n",
       "    <tr>\n",
       "      <th>0</th>\n",
       "      <td>MainScreenAppear</td>\n",
       "      <td>4575588528974610257</td>\n",
       "      <td>2019-07-25 04:43:36</td>\n",
       "      <td>246</td>\n",
       "    </tr>\n",
       "    <tr>\n",
       "      <th>1</th>\n",
       "      <td>MainScreenAppear</td>\n",
       "      <td>7416695313311560658</td>\n",
       "      <td>2019-07-25 11:11:42</td>\n",
       "      <td>246</td>\n",
       "    </tr>\n",
       "    <tr>\n",
       "      <th>2</th>\n",
       "      <td>PaymentScreenSuccessful</td>\n",
       "      <td>3518123091307005509</td>\n",
       "      <td>2019-07-25 11:28:47</td>\n",
       "      <td>248</td>\n",
       "    </tr>\n",
       "    <tr>\n",
       "      <th>3</th>\n",
       "      <td>CartScreenAppear</td>\n",
       "      <td>3518123091307005509</td>\n",
       "      <td>2019-07-25 11:28:47</td>\n",
       "      <td>248</td>\n",
       "    </tr>\n",
       "    <tr>\n",
       "      <th>4</th>\n",
       "      <td>PaymentScreenSuccessful</td>\n",
       "      <td>6217807653094995999</td>\n",
       "      <td>2019-07-25 11:48:42</td>\n",
       "      <td>248</td>\n",
       "    </tr>\n",
       "  </tbody>\n",
       "</table>\n",
       "</div>"
      ],
      "text/plain": [
       "                event_name              user_id          event_time  exp_id\n",
       "0         MainScreenAppear  4575588528974610257 2019-07-25 04:43:36     246\n",
       "1         MainScreenAppear  7416695313311560658 2019-07-25 11:11:42     246\n",
       "2  PaymentScreenSuccessful  3518123091307005509 2019-07-25 11:28:47     248\n",
       "3         CartScreenAppear  3518123091307005509 2019-07-25 11:28:47     248\n",
       "4  PaymentScreenSuccessful  6217807653094995999 2019-07-25 11:48:42     248"
      ]
     },
     "execution_count": 2925,
     "metadata": {},
     "output_type": "execute_result"
    }
   ],
   "source": [
    "# Cambio de nombre de columnas\n",
    "data = data.rename(columns = {'EventName': 'event_name', 'DeviceIDHash':'user_id', 'EventTimestamp':'event_time', 'ExpId':'exp_id'})\n",
    "\n",
    "# Convertir la columna event_time a tipo datetime\n",
    "data['event_time'] = pd.to_datetime(data['event_time'], unit='s')\n",
    "\n",
    "data.head(5)"
   ]
  },
  {
   "cell_type": "code",
   "execution_count": 2926,
   "metadata": {},
   "outputs": [
    {
     "data": {
      "text/html": [
       "<div>\n",
       "<style scoped>\n",
       "    .dataframe tbody tr th:only-of-type {\n",
       "        vertical-align: middle;\n",
       "    }\n",
       "\n",
       "    .dataframe tbody tr th {\n",
       "        vertical-align: top;\n",
       "    }\n",
       "\n",
       "    .dataframe thead th {\n",
       "        text-align: right;\n",
       "    }\n",
       "</style>\n",
       "<table border=\"1\" class=\"dataframe\">\n",
       "  <thead>\n",
       "    <tr style=\"text-align: right;\">\n",
       "      <th></th>\n",
       "      <th>event_name</th>\n",
       "      <th>user_id</th>\n",
       "      <th>event_time</th>\n",
       "      <th>exp_id</th>\n",
       "      <th>event_date</th>\n",
       "    </tr>\n",
       "  </thead>\n",
       "  <tbody>\n",
       "    <tr>\n",
       "      <th>0</th>\n",
       "      <td>MainScreenAppear</td>\n",
       "      <td>4575588528974610257</td>\n",
       "      <td>2019-07-25 04:43:36</td>\n",
       "      <td>246</td>\n",
       "      <td>2019-07-25</td>\n",
       "    </tr>\n",
       "    <tr>\n",
       "      <th>1</th>\n",
       "      <td>MainScreenAppear</td>\n",
       "      <td>7416695313311560658</td>\n",
       "      <td>2019-07-25 11:11:42</td>\n",
       "      <td>246</td>\n",
       "      <td>2019-07-25</td>\n",
       "    </tr>\n",
       "    <tr>\n",
       "      <th>2</th>\n",
       "      <td>PaymentScreenSuccessful</td>\n",
       "      <td>3518123091307005509</td>\n",
       "      <td>2019-07-25 11:28:47</td>\n",
       "      <td>248</td>\n",
       "      <td>2019-07-25</td>\n",
       "    </tr>\n",
       "    <tr>\n",
       "      <th>3</th>\n",
       "      <td>CartScreenAppear</td>\n",
       "      <td>3518123091307005509</td>\n",
       "      <td>2019-07-25 11:28:47</td>\n",
       "      <td>248</td>\n",
       "      <td>2019-07-25</td>\n",
       "    </tr>\n",
       "    <tr>\n",
       "      <th>4</th>\n",
       "      <td>PaymentScreenSuccessful</td>\n",
       "      <td>6217807653094995999</td>\n",
       "      <td>2019-07-25 11:48:42</td>\n",
       "      <td>248</td>\n",
       "      <td>2019-07-25</td>\n",
       "    </tr>\n",
       "  </tbody>\n",
       "</table>\n",
       "</div>"
      ],
      "text/plain": [
       "                event_name              user_id          event_time  exp_id  \\\n",
       "0         MainScreenAppear  4575588528974610257 2019-07-25 04:43:36     246   \n",
       "1         MainScreenAppear  7416695313311560658 2019-07-25 11:11:42     246   \n",
       "2  PaymentScreenSuccessful  3518123091307005509 2019-07-25 11:28:47     248   \n",
       "3         CartScreenAppear  3518123091307005509 2019-07-25 11:28:47     248   \n",
       "4  PaymentScreenSuccessful  6217807653094995999 2019-07-25 11:48:42     248   \n",
       "\n",
       "   event_date  \n",
       "0  2019-07-25  \n",
       "1  2019-07-25  \n",
       "2  2019-07-25  \n",
       "3  2019-07-25  \n",
       "4  2019-07-25  "
      ]
     },
     "execution_count": 2926,
     "metadata": {},
     "output_type": "execute_result"
    }
   ],
   "source": [
    "# Crear columna event_date solo con la fecha del evento\n",
    "data['event_date'] =data['event_time'].dt.date\n",
    "data.head(5)"
   ]
  },
  {
   "cell_type": "markdown",
   "metadata": {},
   "source": [
    "## 2. Estudio y comprobación de datos"
   ]
  },
  {
   "cell_type": "markdown",
   "metadata": {},
   "source": [
    "### 2.1 ¿Cuántos eventos hay en los registros?"
   ]
  },
  {
   "cell_type": "code",
   "execution_count": 2927,
   "metadata": {},
   "outputs": [
    {
     "name": "stdout",
     "output_type": "stream",
     "text": [
      "Eventos totales: 243713\n"
     ]
    }
   ],
   "source": [
    "# Número de eventos\n",
    "print(f\"Eventos totales: {len(data)}\")"
   ]
  },
  {
   "cell_type": "code",
   "execution_count": 2928,
   "metadata": {},
   "outputs": [
    {
     "name": "stdout",
     "output_type": "stream",
     "text": [
      "Eventos únicos: 176654\n"
     ]
    }
   ],
   "source": [
    "# Número de eventos únicos\n",
    "print(f\"Eventos únicos: {data['event_time'].nunique()}\")"
   ]
  },
  {
   "cell_type": "markdown",
   "metadata": {},
   "source": [
    "### 2.2 ¿Cuántos usuarios hay en los registros?"
   ]
  },
  {
   "cell_type": "code",
   "execution_count": 2929,
   "metadata": {},
   "outputs": [
    {
     "name": "stdout",
     "output_type": "stream",
     "text": [
      "Hay un total de: 7551 usuari@s únicos\n"
     ]
    }
   ],
   "source": [
    "print(f'Hay un total de: {data['user_id'].nunique()} usuari@s únicos')"
   ]
  },
  {
   "cell_type": "markdown",
   "metadata": {},
   "source": [
    "### 2.3 ¿Cuál es el promedio de eventos por usuario?"
   ]
  },
  {
   "cell_type": "code",
   "execution_count": 2930,
   "metadata": {},
   "outputs": [
    {
     "name": "stdout",
     "output_type": "stream",
     "text": [
      " El promedio de eventos por usuario es de: 32.28\n"
     ]
    }
   ],
   "source": [
    "event_per_user = data.groupby('user_id')['event_name'].count().mean().round(2)\n",
    "print(f\" El promedio de eventos por usuario es de: {event_per_user}\")"
   ]
  },
  {
   "cell_type": "markdown",
   "metadata": {},
   "source": [
    "### 2.4 ¿Qué periodo de tiempo cubren los datos? Encuentra la fecha máxima y mínima. Traza un histograma por fecha y hora. ¿Puedes tener seguridad de que tienes datos igualmente completos para todo el periodo? Los eventos más antiguos podrían terminar en los registros de algunos usuarios por razones técnicas y esto podría sesgar el panorama general. Encuentra el momento en el que los datos comienzan a estar completos e ignora la sección anterior. ¿Qué periodo representan realmente los datos?"
   ]
  },
  {
   "cell_type": "code",
   "execution_count": 2931,
   "metadata": {},
   "outputs": [
    {
     "name": "stdout",
     "output_type": "stream",
     "text": [
      "La fecha mínima es: 2019-07-25\n",
      "La fecha máxima es: 2019-08-07\n"
     ]
    }
   ],
   "source": [
    "# Primera fecha de evento x usuario\n",
    "first_event = data['event_date'].min()\n",
    "\n",
    "# Última fecha de evento x usuario\n",
    "last_event = data['event_date'].max()\n",
    "\n",
    "print(f\"La fecha mínima es: {first_event}\")\n",
    "print(f\"La fecha máxima es: {last_event}\")\n"
   ]
  },
  {
   "cell_type": "code",
   "execution_count": 2932,
   "metadata": {},
   "outputs": [
    {
     "data": {
      "image/png": "[encoded data removed]",
      "text/plain": [
       "<Figure size 1200x500 with 1 Axes>"
      ]
     },
     "metadata": {},
     "output_type": "display_data"
    }
   ],
   "source": [
    "# Distribución de la primera fecha de evento\n",
    "data.hist(column = 'event_time',figsize=(12,5), bins=20, grid=False, alpha=0.7)\n",
    "plt.title('Distribución de los eventos por fecha')\n",
    "plt.show()"
   ]
  },
  {
   "cell_type": "markdown",
   "metadata": {},
   "source": [
    "En la gráfica de distribución observamos un sesgo a la derecha, ya que la mayoría de los eventos ocurrieron entre el 1 de Agosto y el 7 de Agosto, por lo que nos concentraremos en trabajar solo con los eventos ocurridos entre este rango."
   ]
  },
  {
   "cell_type": "code",
   "execution_count": 2933,
   "metadata": {},
   "outputs": [
    {
     "data": {
      "text/html": [
       "<div>\n",
       "<style scoped>\n",
       "    .dataframe tbody tr th:only-of-type {\n",
       "        vertical-align: middle;\n",
       "    }\n",
       "\n",
       "    .dataframe tbody tr th {\n",
       "        vertical-align: top;\n",
       "    }\n",
       "\n",
       "    .dataframe thead th {\n",
       "        text-align: right;\n",
       "    }\n",
       "</style>\n",
       "<table border=\"1\" class=\"dataframe\">\n",
       "  <thead>\n",
       "    <tr style=\"text-align: right;\">\n",
       "      <th></th>\n",
       "      <th>event_name</th>\n",
       "      <th>user_id</th>\n",
       "      <th>event_time</th>\n",
       "      <th>exp_id</th>\n",
       "      <th>event_date</th>\n",
       "    </tr>\n",
       "  </thead>\n",
       "  <tbody>\n",
       "    <tr>\n",
       "      <th>0</th>\n",
       "      <td>Tutorial</td>\n",
       "      <td>3737462046622621720</td>\n",
       "      <td>2019-08-01 00:07:28</td>\n",
       "      <td>246</td>\n",
       "      <td>2019-08-01</td>\n",
       "    </tr>\n",
       "    <tr>\n",
       "      <th>1</th>\n",
       "      <td>MainScreenAppear</td>\n",
       "      <td>3737462046622621720</td>\n",
       "      <td>2019-08-01 00:08:00</td>\n",
       "      <td>246</td>\n",
       "      <td>2019-08-01</td>\n",
       "    </tr>\n",
       "    <tr>\n",
       "      <th>2</th>\n",
       "      <td>MainScreenAppear</td>\n",
       "      <td>3737462046622621720</td>\n",
       "      <td>2019-08-01 00:08:55</td>\n",
       "      <td>246</td>\n",
       "      <td>2019-08-01</td>\n",
       "    </tr>\n",
       "    <tr>\n",
       "      <th>3</th>\n",
       "      <td>OffersScreenAppear</td>\n",
       "      <td>3737462046622621720</td>\n",
       "      <td>2019-08-01 00:08:58</td>\n",
       "      <td>246</td>\n",
       "      <td>2019-08-01</td>\n",
       "    </tr>\n",
       "    <tr>\n",
       "      <th>4</th>\n",
       "      <td>MainScreenAppear</td>\n",
       "      <td>1433840883824088890</td>\n",
       "      <td>2019-08-01 00:08:59</td>\n",
       "      <td>247</td>\n",
       "      <td>2019-08-01</td>\n",
       "    </tr>\n",
       "  </tbody>\n",
       "</table>\n",
       "</div>"
      ],
      "text/plain": [
       "           event_name              user_id          event_time  exp_id  \\\n",
       "0            Tutorial  3737462046622621720 2019-08-01 00:07:28     246   \n",
       "1    MainScreenAppear  3737462046622621720 2019-08-01 00:08:00     246   \n",
       "2    MainScreenAppear  3737462046622621720 2019-08-01 00:08:55     246   \n",
       "3  OffersScreenAppear  3737462046622621720 2019-08-01 00:08:58     246   \n",
       "4    MainScreenAppear  1433840883824088890 2019-08-01 00:08:59     247   \n",
       "\n",
       "  event_date  \n",
       "0 2019-08-01  \n",
       "1 2019-08-01  \n",
       "2 2019-08-01  \n",
       "3 2019-08-01  \n",
       "4 2019-08-01  "
      ]
     },
     "execution_count": 2933,
     "metadata": {},
     "output_type": "execute_result"
    }
   ],
   "source": [
    "data['event_date'] = pd.to_datetime(data['event_date'])\n",
    "data_2 = data[data['event_date']>= '2019-08-01'].reset_index(drop=True)\n",
    "data_2.head(5)"
   ]
  },
  {
   "cell_type": "code",
   "execution_count": 2934,
   "metadata": {},
   "outputs": [
    {
     "data": {
      "image/png": "[encoded data removed]",
      "text/plain": [
       "<Figure size 1200x500 with 1 Axes>"
      ]
     },
     "metadata": {},
     "output_type": "display_data"
    }
   ],
   "source": [
    "data_2.hist(column = 'event_time',figsize=(12,5), bins=20, grid=False, alpha=0.7)\n",
    "plt.title('Distribución de los eventos por fecha')\n",
    "plt.show()"
   ]
  },
  {
   "cell_type": "markdown",
   "metadata": {},
   "source": [
    "### 2.5 Número de eventos y usuarios perdidos\n",
    "\n",
    "¿Perdiste muchos eventos y usuarios al excluir los datos más antiguos?"
   ]
  },
  {
   "cell_type": "code",
   "execution_count": 2935,
   "metadata": {},
   "outputs": [
    {
     "name": "stdout",
     "output_type": "stream",
     "text": [
      "Se perdió el 1.16 % de los registros\n"
     ]
    }
   ],
   "source": [
    "perdida = (1-len(data_2)/len(data))*100\n",
    "print(f\"Se perdió el {round(perdida, 2)} % de los registros\")"
   ]
  },
  {
   "cell_type": "markdown",
   "metadata": {},
   "source": [
    "### 2.6 Usuarios de los tres grupos experimentales"
   ]
  },
  {
   "cell_type": "code",
   "execution_count": 2936,
   "metadata": {},
   "outputs": [
    {
     "data": {
      "text/plain": [
       "exp_id\n",
       "246    79302\n",
       "247    77022\n",
       "248    84563\n",
       "Name: user_id, dtype: int64"
      ]
     },
     "execution_count": 2936,
     "metadata": {},
     "output_type": "execute_result"
    }
   ],
   "source": [
    "data_2.groupby('exp_id')['user_id'].count()"
   ]
  },
  {
   "cell_type": "markdown",
   "metadata": {},
   "source": [
    "Los 3 grupos experimentales tienen datos de usuarios."
   ]
  },
  {
   "cell_type": "markdown",
   "metadata": {},
   "source": [
    "## 3. Embudo de eventos"
   ]
  },
  {
   "cell_type": "markdown",
   "metadata": {},
   "source": [
    "### 3.1 Frecuencia de enventos"
   ]
  },
  {
   "cell_type": "code",
   "execution_count": 2937,
   "metadata": {},
   "outputs": [
    {
     "data": {
      "image/png": "[encoded data removed]",
      "text/plain": [
       "<Figure size 1000x500 with 1 Axes>"
      ]
     },
     "metadata": {},
     "output_type": "display_data"
    }
   ],
   "source": [
    "# Agrupamos por evento y contamos el número de veces que ocurre\n",
    "data_2.groupby('event_name')['user_id'].count().sort_values().plot(kind='barh',\n",
    "                                                                    figsize=(10,5),\n",
    "                                                                    xlabel = 'Frecuencia de evento',\n",
    "                                                                    ylabel = 'Evento',\n",
    "                                                                    title = 'Frecuencia de ocurrencia por evento')\n",
    "plt.show()"
   ]
  },
  {
   "cell_type": "markdown",
   "metadata": {},
   "source": [
    "### 3.2 Cantidad de usuarios únicos por evento"
   ]
  },
  {
   "cell_type": "code",
   "execution_count": 2938,
   "metadata": {},
   "outputs": [
    {
     "data": {
      "text/html": [
       "<div>\n",
       "<style scoped>\n",
       "    .dataframe tbody tr th:only-of-type {\n",
       "        vertical-align: middle;\n",
       "    }\n",
       "\n",
       "    .dataframe tbody tr th {\n",
       "        vertical-align: top;\n",
       "    }\n",
       "\n",
       "    .dataframe thead th {\n",
       "        text-align: right;\n",
       "    }\n",
       "</style>\n",
       "<table border=\"1\" class=\"dataframe\">\n",
       "  <thead>\n",
       "    <tr style=\"text-align: right;\">\n",
       "      <th></th>\n",
       "      <th>user_id</th>\n",
       "    </tr>\n",
       "    <tr>\n",
       "      <th>event_name</th>\n",
       "      <th></th>\n",
       "    </tr>\n",
       "  </thead>\n",
       "  <tbody>\n",
       "    <tr>\n",
       "      <th>MainScreenAppear</th>\n",
       "      <td>7419</td>\n",
       "    </tr>\n",
       "    <tr>\n",
       "      <th>OffersScreenAppear</th>\n",
       "      <td>4593</td>\n",
       "    </tr>\n",
       "    <tr>\n",
       "      <th>CartScreenAppear</th>\n",
       "      <td>3734</td>\n",
       "    </tr>\n",
       "    <tr>\n",
       "      <th>PaymentScreenSuccessful</th>\n",
       "      <td>3539</td>\n",
       "    </tr>\n",
       "    <tr>\n",
       "      <th>Tutorial</th>\n",
       "      <td>840</td>\n",
       "    </tr>\n",
       "  </tbody>\n",
       "</table>\n",
       "</div>"
      ],
      "text/plain": [
       "                         user_id\n",
       "event_name                      \n",
       "MainScreenAppear            7419\n",
       "OffersScreenAppear          4593\n",
       "CartScreenAppear            3734\n",
       "PaymentScreenSuccessful     3539\n",
       "Tutorial                     840"
      ]
     },
     "execution_count": 2938,
     "metadata": {},
     "output_type": "execute_result"
    }
   ],
   "source": [
    "# Creamos la variable user_count para almacenar el número de usuarios únicos por evento\n",
    "users_count = data_2.groupby('event_name').agg({'user_id': 'nunique'}).sort_values(by = 'user_id', ascending=False)\n",
    "users_count"
   ]
  },
  {
   "cell_type": "code",
   "execution_count": 2939,
   "metadata": {},
   "outputs": [
    {
     "data": {
      "image/png": "[encoded data removed]",
      "text/plain": [
       "<Figure size 1000x500 with 1 Axes>"
      ]
     },
     "metadata": {},
     "output_type": "display_data"
    }
   ],
   "source": [
    "# Proporción de usuarios únicos por evento\n",
    "proportion = (users_count['user_id'] / users_count['user_id'].sum())*100\n",
    "proportion.plot(kind='bar',\n",
    "                figsize=(10,5),\n",
    "                xlabel = 'Evento',\n",
    "                ylabel = 'Proporción',\n",
    "                title = 'Proporción de usuarios por evento',\n",
    "                rot = 45)\n",
    "plt.show()"
   ]
  },
  {
   "cell_type": "markdown",
   "metadata": {},
   "source": [
    "### 3.3 ¿En qué orden crees que ocurrieron las acciones? "
   ]
  },
  {
   "cell_type": "markdown",
   "metadata": {},
   "source": [
    "\n",
    "A simple vista, pareciera que el orden de ocurrencia de los eventos es:\n",
    "PÁGINA PRINCIPAL - PÁGINA DE OFERTAS - CHECK OUT (CARRITO DE COMPRAS) - PAGO EXITOSO - TUTORIAL\n",
    "\n",
    "¿Todas son parte de una sola secuencia? \n",
    "No creo que todos eventos correspondan a una secuencia, por ejemplo, el tutorial propablemente es un evento que no todos lo hagan, o si lo hacen habrá algunos que lo hacen al inicio y otros al final. "
   ]
  },
  {
   "cell_type": "code",
   "execution_count": 2940,
   "metadata": {},
   "outputs": [
    {
     "data": {
      "text/html": [
       "<div>\n",
       "<style scoped>\n",
       "    .dataframe tbody tr th:only-of-type {\n",
       "        vertical-align: middle;\n",
       "    }\n",
       "\n",
       "    .dataframe tbody tr th {\n",
       "        vertical-align: top;\n",
       "    }\n",
       "\n",
       "    .dataframe thead th {\n",
       "        text-align: right;\n",
       "    }\n",
       "</style>\n",
       "<table border=\"1\" class=\"dataframe\">\n",
       "  <thead>\n",
       "    <tr style=\"text-align: right;\">\n",
       "      <th></th>\n",
       "      <th>event_name</th>\n",
       "      <th>user_id</th>\n",
       "    </tr>\n",
       "  </thead>\n",
       "  <tbody>\n",
       "    <tr>\n",
       "      <th>0</th>\n",
       "      <td>MainScreenAppear</td>\n",
       "      <td>7419</td>\n",
       "    </tr>\n",
       "    <tr>\n",
       "      <th>1</th>\n",
       "      <td>OffersScreenAppear</td>\n",
       "      <td>4593</td>\n",
       "    </tr>\n",
       "    <tr>\n",
       "      <th>2</th>\n",
       "      <td>CartScreenAppear</td>\n",
       "      <td>3734</td>\n",
       "    </tr>\n",
       "    <tr>\n",
       "      <th>3</th>\n",
       "      <td>PaymentScreenSuccessful</td>\n",
       "      <td>3539</td>\n",
       "    </tr>\n",
       "  </tbody>\n",
       "</table>\n",
       "</div>"
      ],
      "text/plain": [
       "                event_name  user_id\n",
       "0         MainScreenAppear     7419\n",
       "1       OffersScreenAppear     4593\n",
       "2         CartScreenAppear     3734\n",
       "3  PaymentScreenSuccessful     3539"
      ]
     },
     "execution_count": 2940,
     "metadata": {},
     "output_type": "execute_result"
    }
   ],
   "source": [
    "users_count = users_count.reset_index()\n",
    "event = ['MainScreenAppear', 'OffersScreenAppear', 'CartScreenAppear', 'PaymentScreenSuccessful']\n",
    "users_count = users_count[users_count['event_name'].isin(event)]\n",
    "users_count"
   ]
  },
  {
   "cell_type": "markdown",
   "metadata": {},
   "source": [
    "### 3.4 Proporción de usuarios que pasan de una etapa a la siguiente"
   ]
  },
  {
   "cell_type": "code",
   "execution_count": 2941,
   "metadata": {},
   "outputs": [
    {
     "data": {
      "text/html": [
       "<div>\n",
       "<style scoped>\n",
       "    .dataframe tbody tr th:only-of-type {\n",
       "        vertical-align: middle;\n",
       "    }\n",
       "\n",
       "    .dataframe tbody tr th {\n",
       "        vertical-align: top;\n",
       "    }\n",
       "\n",
       "    .dataframe thead th {\n",
       "        text-align: right;\n",
       "    }\n",
       "</style>\n",
       "<table border=\"1\" class=\"dataframe\">\n",
       "  <thead>\n",
       "    <tr style=\"text-align: right;\">\n",
       "      <th>event_name</th>\n",
       "      <th>CartScreenAppear</th>\n",
       "      <th>MainScreenAppear</th>\n",
       "      <th>OffersScreenAppear</th>\n",
       "      <th>PaymentScreenSuccessful</th>\n",
       "      <th>Tutorial</th>\n",
       "    </tr>\n",
       "    <tr>\n",
       "      <th>user_id</th>\n",
       "      <th></th>\n",
       "      <th></th>\n",
       "      <th></th>\n",
       "      <th></th>\n",
       "      <th></th>\n",
       "    </tr>\n",
       "  </thead>\n",
       "  <tbody>\n",
       "    <tr>\n",
       "      <th>6888746892508752</th>\n",
       "      <td>NaT</td>\n",
       "      <td>2019-08-06 14:06:34</td>\n",
       "      <td>NaT</td>\n",
       "      <td>NaT</td>\n",
       "      <td>NaT</td>\n",
       "    </tr>\n",
       "    <tr>\n",
       "      <th>6909561520679493</th>\n",
       "      <td>2019-08-06 18:52:58</td>\n",
       "      <td>2019-08-06 18:52:54</td>\n",
       "      <td>2019-08-06 18:53:04</td>\n",
       "      <td>2019-08-06 18:52:58</td>\n",
       "      <td>NaT</td>\n",
       "    </tr>\n",
       "    <tr>\n",
       "      <th>6922444491712477</th>\n",
       "      <td>2019-08-04 14:19:40</td>\n",
       "      <td>2019-08-04 14:19:33</td>\n",
       "      <td>2019-08-04 14:19:46</td>\n",
       "      <td>2019-08-04 14:19:40</td>\n",
       "      <td>NaT</td>\n",
       "    </tr>\n",
       "    <tr>\n",
       "      <th>7435777799948366</th>\n",
       "      <td>NaT</td>\n",
       "      <td>2019-08-05 08:06:34</td>\n",
       "      <td>NaT</td>\n",
       "      <td>NaT</td>\n",
       "      <td>NaT</td>\n",
       "    </tr>\n",
       "    <tr>\n",
       "      <th>7702139951469979</th>\n",
       "      <td>2019-08-02 14:28:45</td>\n",
       "      <td>2019-08-01 04:29:54</td>\n",
       "      <td>2019-08-01 04:29:56</td>\n",
       "      <td>2019-08-02 14:28:45</td>\n",
       "      <td>NaT</td>\n",
       "    </tr>\n",
       "  </tbody>\n",
       "</table>\n",
       "</div>"
      ],
      "text/plain": [
       "event_name          CartScreenAppear    MainScreenAppear  OffersScreenAppear  \\\n",
       "user_id                                                                        \n",
       "6888746892508752                 NaT 2019-08-06 14:06:34                 NaT   \n",
       "6909561520679493 2019-08-06 18:52:58 2019-08-06 18:52:54 2019-08-06 18:53:04   \n",
       "6922444491712477 2019-08-04 14:19:40 2019-08-04 14:19:33 2019-08-04 14:19:46   \n",
       "7435777799948366                 NaT 2019-08-05 08:06:34                 NaT   \n",
       "7702139951469979 2019-08-02 14:28:45 2019-08-01 04:29:54 2019-08-01 04:29:56   \n",
       "\n",
       "event_name       PaymentScreenSuccessful Tutorial  \n",
       "user_id                                            \n",
       "6888746892508752                     NaT      NaT  \n",
       "6909561520679493     2019-08-06 18:52:58      NaT  \n",
       "6922444491712477     2019-08-04 14:19:40      NaT  \n",
       "7435777799948366                     NaT      NaT  \n",
       "7702139951469979     2019-08-02 14:28:45      NaT  "
      ]
     },
     "execution_count": 2941,
     "metadata": {},
     "output_type": "execute_result"
    }
   ],
   "source": [
    "# Para cada usuario buscamos el primer evento\n",
    "users = data_2.pivot_table(\n",
    "    index='user_id', \n",
    "    columns='event_name', \n",
    "    values='event_time',\n",
    "    aggfunc='min')\n",
    "\n",
    "users.head()"
   ]
  },
  {
   "cell_type": "markdown",
   "metadata": {},
   "source": [
    "Cada fila de la tabla representa un usuario. Las columnas contienen la hora en que ocurrió por primera vez cada uno de los eventos. Los valores VaT representan la no ocurrencia del evento, por ejemplo, el usuario 6888746892508752 solo ingreso a la página principal y salió.\n",
    "\n",
    "Además también se puede observar que hay alguno usuarios que no siguen la ruta de eventos prevista inicialmente, por ejemplo, el usuario 6922444491712477 visita la página de ofertas después de realizar el pago. Por lo anterior, realizaremos el embudo por secuencia de eventos."
   ]
  },
  {
   "cell_type": "code",
   "execution_count": 2942,
   "metadata": {},
   "outputs": [
    {
     "name": "stdout",
     "output_type": "stream",
     "text": [
      "Visitantes: 7419\n",
      "Visitantes página ofertas: 4201\n",
      "Visitas al carrito: 1767\n",
      "Pagado: 454\n",
      "Tutorial: 1\n"
     ]
    }
   ],
   "source": [
    "# Número de usuario en página principal\n",
    "step_1 = ~users['MainScreenAppear'].isna()\n",
    "\n",
    "# Número de usuarrios que de página principal pasaron a la página de ofertas\n",
    "step_2 = step_1 & (users['OffersScreenAppear'] > users['MainScreenAppear'])\n",
    "\n",
    "# Número de usuarios que de la página de ofertas pasaron al carrito\n",
    "step_3 = step_2 & (users['CartScreenAppear'] > users['OffersScreenAppear'])\n",
    "\n",
    "# Número de usuarios que del carrito pasaron a la página de pago exitoso\n",
    "step_4 = step_3 & (users['PaymentScreenSuccessful'] > users['CartScreenAppear'])\n",
    "\n",
    "step_5 = step_4 & (users['Tutorial'] > users['PaymentScreenSuccessful'])\n",
    "\n",
    "main_screen = users[step_1].shape[0]\n",
    "offer_screen = users[step_2].shape[0]\n",
    "cart_screen = users[step_3].shape[0]\n",
    "payment_screen = users[step_4].shape[0]\n",
    "tutorial = users[step_5].shape[0]\n",
    "\n",
    "print('Visitantes:', main_screen)\n",
    "print('Visitantes página ofertas:', offer_screen)\n",
    "print('Visitas al carrito:', cart_screen)\n",
    "print('Pagado:', payment_screen)\n",
    "print('Tutorial:', tutorial)\n"
   ]
  },
  {
   "cell_type": "markdown",
   "metadata": {},
   "source": [
    "Con la realización del embudo por secuencia, efectivamente nos damos cuenta que el tutorial no es un evento relevante dentro de la secuencia, puesto que tan solo 1 usuario de los 454 que pagaron lo vieron. Es un evento que se puede omitir dentro de los análisis."
   ]
  },
  {
   "cell_type": "code",
   "execution_count": 2943,
   "metadata": {},
   "outputs": [
    {
     "data": {
      "image/png": "[encoded data removed]",
      "text/plain": [
       "<Figure size 640x480 with 1 Axes>"
      ]
     },
     "metadata": {},
     "output_type": "display_data"
    }
   ],
   "source": [
    "ax = sns.barplot(x=['MainScreenAppear', 'OffersScreenAppear', 'CartScreenAppear', 'PaymentScreenSuccessful'],\n",
    "                 y=[main_screen, offer_screen, cart_screen, payment_screen])\n",
    "ax.set_title('Número de usuarios por evento')\n",
    "ax.set_xlabel('Evento')\n",
    "ax.set_ylabel('Número de usuarios')\n",
    "plt.xticks(rotation=45)\n",
    "plt.show()"
   ]
  },
  {
   "cell_type": "markdown",
   "metadata": {},
   "source": [
    "### 3.5 ¿En qué etapa se pierden más usuarios?"
   ]
  },
  {
   "cell_type": "code",
   "execution_count": 2944,
   "metadata": {},
   "outputs": [
    {
     "name": "stdout",
     "output_type": "stream",
     "text": [
      "Visitantes página ofertas: 56.62488205957676\n",
      "Visitas al carrito: 42.06141394905975\n",
      "Pagado: 25.693265421618563\n"
     ]
    }
   ],
   "source": [
    "offer_user = (offer_screen/main_screen) *100\n",
    "cart_user = (cart_screen/offer_screen) *100\n",
    "payment_user = (payment_screen/cart_screen) *100\n",
    "\n",
    "print('Visitantes página ofertas:', offer_user)\n",
    "print('Visitas al carrito:', cart_user)\n",
    "print('Pagado:', payment_user)"
   ]
  },
  {
   "cell_type": "markdown",
   "metadata": {},
   "source": [
    "La página de pago es donde más se pierden usuarios, solo 25 de 100 usuarios que entran a la página del carrito terminan con un pago exitoso."
   ]
  },
  {
   "cell_type": "markdown",
   "metadata": {},
   "source": [
    "### 3.6 ¿Qué porcentaje de usuarios hace todo el viaje desde su primer evento hasta el pago?"
   ]
  },
  {
   "cell_type": "code",
   "execution_count": 2945,
   "metadata": {},
   "outputs": [
    {
     "name": "stdout",
     "output_type": "stream",
     "text": [
      "El 6.12 % de los usuarios que visitaron la página principal llegaron a la página de pago exitoso\n"
     ]
    }
   ],
   "source": [
    "funnel = (payment_screen/main_screen)*100\n",
    "print(f'El {round(funnel, 2)} % de los usuarios que visitaron la página principal llegaron a la página de pago exitoso')"
   ]
  },
  {
   "cell_type": "markdown",
   "metadata": {},
   "source": [
    "## 4. Resultados del experimento"
   ]
  },
  {
   "cell_type": "markdown",
   "metadata": {},
   "source": [
    "### 4.1 ¿Cuántos usuarios hay en cada grupo?"
   ]
  },
  {
   "cell_type": "code",
   "execution_count": 2946,
   "metadata": {},
   "outputs": [
    {
     "data": {
      "text/html": [
       "<div>\n",
       "<style scoped>\n",
       "    .dataframe tbody tr th:only-of-type {\n",
       "        vertical-align: middle;\n",
       "    }\n",
       "\n",
       "    .dataframe tbody tr th {\n",
       "        vertical-align: top;\n",
       "    }\n",
       "\n",
       "    .dataframe thead th {\n",
       "        text-align: right;\n",
       "    }\n",
       "</style>\n",
       "<table border=\"1\" class=\"dataframe\">\n",
       "  <thead>\n",
       "    <tr style=\"text-align: right;\">\n",
       "      <th></th>\n",
       "      <th>exp_id</th>\n",
       "      <th>user_id</th>\n",
       "    </tr>\n",
       "  </thead>\n",
       "  <tbody>\n",
       "    <tr>\n",
       "      <th>0</th>\n",
       "      <td>246</td>\n",
       "      <td>2484</td>\n",
       "    </tr>\n",
       "    <tr>\n",
       "      <th>1</th>\n",
       "      <td>247</td>\n",
       "      <td>2513</td>\n",
       "    </tr>\n",
       "    <tr>\n",
       "      <th>2</th>\n",
       "      <td>248</td>\n",
       "      <td>2537</td>\n",
       "    </tr>\n",
       "  </tbody>\n",
       "</table>\n",
       "</div>"
      ],
      "text/plain": [
       "   exp_id  user_id\n",
       "0     246     2484\n",
       "1     247     2513\n",
       "2     248     2537"
      ]
     },
     "execution_count": 2946,
     "metadata": {},
     "output_type": "execute_result"
    }
   ],
   "source": [
    "# Agrupamos por exp_id y contamos el número de usuarios únicos\n",
    "groups = data_2.groupby('exp_id')['user_id'].nunique().reset_index()\n",
    "groups"
   ]
  },
  {
   "cell_type": "markdown",
   "metadata": {},
   "source": [
    "### 4.2 Diferencia estadísticamente significativa\n",
    "Tenemos dos grupos de control en el test A/A, donde comprobamos nuestros mecanismos y cálculos. Observa si hay una diferencia estadísticamente significativa entre las muestras 246 y 247."
   ]
  },
  {
   "cell_type": "markdown",
   "metadata": {},
   "source": [
    "Vamos a probar la hipótesis que las proporciones de ambos grupos son iguales, por tanto:\n",
    "H0 : Hay una diferencia significativa entre las proporciones de los grupos 246 y 247.\n",
    "H1 : No hay razón para pensar que las proporciones de los grupos 246 y 247 son diferentes."
   ]
  },
  {
   "cell_type": "code",
   "execution_count": 2947,
   "metadata": {},
   "outputs": [
    {
     "name": "stdout",
     "output_type": "stream",
     "text": [
      "p-value:  0.11456679313141849\n",
      "No se pudo rechazar la hipótesis nula: no hay razón para pensar que las proporciones de los usuarios que pasaron a la página de pagos en ambos grupos son diferentes\n"
     ]
    }
   ],
   "source": [
    "# Creamos una matriz con valores únicos de parejas usuario-experimento y eliminamos usuarios duplicados\n",
    "groups = data_2[['user_id', 'exp_id']].drop_duplicates()\n",
    "\n",
    "# Creamos los grupos de control x experimento\n",
    "control_1 = (groups[groups['exp_id'] == 246].agg({'user_id':'count'})).sum()\n",
    "control_2 = (groups[groups['exp_id'] == 247].agg({'user_id':'count'})).sum()\n",
    "\n",
    "# Crear columnas con valores binarios: 1 si el usuario hizo el evento, 0 si no\n",
    "data_2['event'] = data_2['event_name'].apply(lambda x: 1 if x == 'PaymentScreenSuccessful' else 0)\n",
    "    \n",
    "# Almacenar en las variables successes_1 y successes_2 el número de usuarios que pasaron a la página de pagos exitoso\n",
    "successes_1 = (data_2[data_2['exp_id'] == 246].groupby('user_id')['event'].max()).sum()\n",
    "successes_2 = (data_2[data_2['exp_id'] == 247].groupby('user_id')['event'].max()).sum()\n",
    "\n",
    "# Establecemos valor de significancia\n",
    "alpha = 0.05\n",
    "\n",
    "# proporción de éxito del grupo 246\n",
    "p1 = successes_1/control_1\n",
    "\n",
    "# proporción de éxito del grupo 247\n",
    "p2 = successes_2/control_2\n",
    "\n",
    "# proporción de éxito de ambos grupos\n",
    "p_combined = (successes_1 + successes_2) / (control_1 + control_2)\n",
    "\n",
    "# la diferencia entre las proporciones de los datasets\n",
    "difference = p1 - p2\n",
    "\n",
    "# Calcula la estadística en desviaciones estándar de la distribución normal estándar\n",
    "z_value = difference / mth.sqrt(p_combined * (1 - p_combined) * (1/control_1 + 1/control_2))\n",
    "\n",
    "# establece la distribución normal estándar (media 0, desviación estándar 1)\n",
    "distr = st.norm(0, 1) \n",
    "\n",
    "p_value = (1 - distr.cdf(abs(z_value))) * 2\n",
    "\n",
    "print('p-value: ', p_value)\n",
    "\n",
    "\n",
    "if (p_value < alpha):\n",
    "    print(\"Rechazar la hipótesis nula: hay una diferencia significativa entre las proporciones de los usuarios que pasaron a la página de pagos en ambos grupos\")\n",
    "else:\n",
    "    print(\"No se pudo rechazar la hipótesis nula: no hay razón para pensar que las proporciones de los usuarios que pasaron a la página de pagos en ambos grupos son diferentes\")"
   ]
  },
  {
   "cell_type": "markdown",
   "metadata": {},
   "source": [
    "### 4.3 Evento más popular"
   ]
  },
  {
   "cell_type": "markdown",
   "metadata": {},
   "source": [
    "El evento más popular es aquel que haya ocurrido mayor número de veces, en nuestro caso es MainScreenAppear"
   ]
  },
  {
   "cell_type": "markdown",
   "metadata": {},
   "source": [
    "#### 4.3.1 En cada uno de los grupos de control, encuentra la cantidad de usuarios que realizaron esta acción. "
   ]
  },
  {
   "cell_type": "code",
   "execution_count": 2948,
   "metadata": {},
   "outputs": [
    {
     "data": {
      "text/html": [
       "<div>\n",
       "<style scoped>\n",
       "    .dataframe tbody tr th:only-of-type {\n",
       "        vertical-align: middle;\n",
       "    }\n",
       "\n",
       "    .dataframe tbody tr th {\n",
       "        vertical-align: top;\n",
       "    }\n",
       "\n",
       "    .dataframe thead th {\n",
       "        text-align: right;\n",
       "    }\n",
       "</style>\n",
       "<table border=\"1\" class=\"dataframe\">\n",
       "  <thead>\n",
       "    <tr style=\"text-align: right;\">\n",
       "      <th></th>\n",
       "      <th>exp_id</th>\n",
       "      <th>users</th>\n",
       "    </tr>\n",
       "  </thead>\n",
       "  <tbody>\n",
       "    <tr>\n",
       "      <th>0</th>\n",
       "      <td>246</td>\n",
       "      <td>2450</td>\n",
       "    </tr>\n",
       "    <tr>\n",
       "      <th>1</th>\n",
       "      <td>247</td>\n",
       "      <td>2476</td>\n",
       "    </tr>\n",
       "  </tbody>\n",
       "</table>\n",
       "</div>"
      ],
      "text/plain": [
       "   exp_id  users\n",
       "0     246   2450\n",
       "1     247   2476"
      ]
     },
     "execution_count": 2948,
     "metadata": {},
     "output_type": "execute_result"
    }
   ],
   "source": [
    "mainscreenapper = data_2[(data_2['event_name'] == 'MainScreenAppear') & (data_2['exp_id'].isin([246, 247]))]\n",
    "mainscreen_users = mainscreenapper.groupby('exp_id')['user_id'].nunique().reset_index()\n",
    "mainscreen_users.rename(columns = {'user_id':'users'}, inplace = True)\n",
    "mainscreen_users"
   ]
  },
  {
   "cell_type": "markdown",
   "metadata": {},
   "source": [
    "#### 4.3.2 Encuentra su proporción"
   ]
  },
  {
   "cell_type": "code",
   "execution_count": 2949,
   "metadata": {},
   "outputs": [
    {
     "data": {
      "text/html": [
       "<div>\n",
       "<style scoped>\n",
       "    .dataframe tbody tr th:only-of-type {\n",
       "        vertical-align: middle;\n",
       "    }\n",
       "\n",
       "    .dataframe tbody tr th {\n",
       "        vertical-align: top;\n",
       "    }\n",
       "\n",
       "    .dataframe thead th {\n",
       "        text-align: right;\n",
       "    }\n",
       "</style>\n",
       "<table border=\"1\" class=\"dataframe\">\n",
       "  <thead>\n",
       "    <tr style=\"text-align: right;\">\n",
       "      <th></th>\n",
       "      <th>exp_id</th>\n",
       "      <th>users</th>\n",
       "      <th>proportion</th>\n",
       "    </tr>\n",
       "  </thead>\n",
       "  <tbody>\n",
       "    <tr>\n",
       "      <th>0</th>\n",
       "      <td>246</td>\n",
       "      <td>2450</td>\n",
       "      <td>0.325</td>\n",
       "    </tr>\n",
       "    <tr>\n",
       "      <th>1</th>\n",
       "      <td>247</td>\n",
       "      <td>2476</td>\n",
       "      <td>0.329</td>\n",
       "    </tr>\n",
       "  </tbody>\n",
       "</table>\n",
       "</div>"
      ],
      "text/plain": [
       "   exp_id  users  proportion\n",
       "0     246   2450       0.325\n",
       "1     247   2476       0.329"
      ]
     },
     "execution_count": 2949,
     "metadata": {},
     "output_type": "execute_result"
    }
   ],
   "source": [
    "mainscreen_users['proportion'] = mainscreen_users['users'] / n_users\n",
    "mainscreen_users.round(3)"
   ]
  },
  {
   "cell_type": "markdown",
   "metadata": {},
   "source": [
    "#### 4.3.3 Comprueba si la diferencia entre los grupos es estadísticamente significativa."
   ]
  },
  {
   "cell_type": "code",
   "execution_count": 2950,
   "metadata": {},
   "outputs": [
    {
     "name": "stdout",
     "output_type": "stream",
     "text": [
      "p-value:  0.30271960704545364\n",
      "No se pudo rechazar la hipótesis nula: no hay razón para pensar que las proporciones de los usuarios de ambos grupos son diferentes.\n"
     ]
    }
   ],
   "source": [
    "# Almacenamos en las variables successes_1 y successes_2 el número de usuarios únicos que llegaron a la página principal\n",
    "successes_1 = mainscreen_users[mainscreen_users['exp_id'] == 246].iloc[0,1]\n",
    "successes_2 = mainscreen_users[mainscreen_users['exp_id'] == 247].iloc[0,1]\n",
    "\n",
    "# Establecemos nivel de significancia\n",
    "alpha = 0.05 \n",
    "\n",
    "p1 = mainscreen_users.iloc[0, 2] # Proporción de éxito grupo 246\n",
    "p2 = mainscreen_users.iloc[1,2] # Proporción de éxito grupo 247\n",
    "p_combined = (successes_1 + successes_2) / (control_1 + control_2) # Proporción de éxito en el dataset unido:\n",
    "difference = p1 - p2 # Diferencia entre las proporciones de los datasets\n",
    "\n",
    "# Calcula la estadística en desviaciones estándar de la distribución normal estándar\n",
    "z_value = difference / mth.sqrt(p_combined * (1 - p_combined) * ((1/control_1)+ 1/control_2))\n",
    "\n",
    "distr = st.norm(0, 1) # Se establece la distribución normal estándar (media 0, desviación estándar 1)\n",
    "\n",
    "p_value = (1 - distr.cdf(abs(z_value))) * 2\n",
    "\n",
    "print('p-value: ', p_value)\n",
    "\n",
    "if (p_value < alpha):\n",
    "    print('Rechazar la hipótesis nula: hay una diferencia significativa entre las proporciones de los usuarios de ambos grupos.')\n",
    "else:\n",
    "    print('No se pudo rechazar la hipótesis nula: no hay razón para pensar que las proporciones de los usuarios de ambos grupos son diferentes.')"
   ]
  },
  {
   "cell_type": "markdown",
   "metadata": {},
   "source": [
    "#### 4.3.4 Repite el procedimiento para todos los demás eventos"
   ]
  },
  {
   "cell_type": "code",
   "execution_count": 2951,
   "metadata": {},
   "outputs": [
    {
     "name": "stdout",
     "output_type": "stream",
     "text": [
      "Evento: MainScreenAppear\n",
      "p-value para los grupos 246 y 247 : 0.7570597232046099\n",
      "No se pudo rechazar la hipótesis nula: no hay razón para pensar que las proporciones de los usuarios de ambos grupos son diferentes.\n",
      "Evento: OffersScreenAppear\n",
      "p-value para los grupos 246 y 247 : 0.2480954578522181\n",
      "No se pudo rechazar la hipótesis nula: no hay razón para pensar que las proporciones de los usuarios de ambos grupos son diferentes.\n",
      "Evento: CartScreenAppear\n",
      "p-value para los grupos 246 y 247 : 0.22883372237997213\n",
      "No se pudo rechazar la hipótesis nula: no hay razón para pensar que las proporciones de los usuarios de ambos grupos son diferentes.\n",
      "Evento: PaymentScreenSuccessful\n",
      "p-value para los grupos 246 y 247 : 0.11456679313141849\n",
      "No se pudo rechazar la hipótesis nula: no hay razón para pensar que las proporciones de los usuarios de ambos grupos son diferentes.\n"
     ]
    }
   ],
   "source": [
    "def proportion_event_test(data_2, event_name, group_1, group_2):\n",
    "\n",
    "    # Crear columnas con valores binarios: 1 si el usuario hizo el evento, 0 si no\n",
    "    data_2['event'] = data_2['event_name'].apply(lambda x: 1 if x == event_name else 0)\n",
    "    \n",
    "    # Almacenar en las variables successes_1 y successes_2 el número de usuarios que pasaron a la página de pagos exitoso\n",
    "    successes_1 = (data_2[data_2['exp_id'] == group_1].groupby('user_id')['event'].max()).sum()\n",
    "    successes_2 = (data_2[data_2['exp_id'] == group_2].groupby('user_id')['event'].max()).sum()\n",
    "\n",
    "    alpha = 0.05  # Establecemos valor de significancia\n",
    "    p1 = successes_1/control_1 # Proporción de éxito del grupo_1\n",
    "    p2 = successes_2/control_2 # Proporción de éxito del grupo_2\n",
    "    p_combined = (successes_1 + successes_2) / (control_1 + control_2) # Proporción de éxito de ambos grupos\n",
    "    difference = p1 - p2 # Diferencia entre las proporciones de los datasets\n",
    "\n",
    "    # Calcula la estadística en desviaciones estándar de la distribución normal estándar\n",
    "    z_value = difference / mth.sqrt(p_combined * (1 - p_combined) * (1/control_1 + 1/control_2))\n",
    "\n",
    "    distr = st.norm(0, 1) # Se establece la distribución normal estándar (media 0, desviación estándar 1)\n",
    "\n",
    "    p_value = (1 - distr.cdf(abs(z_value))) * 2\n",
    "    print(f'Evento: {event_name}') \n",
    "    print('p-value para los grupos', group_1, 'y', group_2,':', p_value)\n",
    "    if (p_value < alpha):\n",
    "        print(\"Rechazar la hipótesis nula: hay una diferencia significativa entre las proporciones de los usuarios de ambos grupos.\")\n",
    "    else:\n",
    "        print(\"No se pudo rechazar la hipótesis nula: no hay razón para pensar que las proporciones de los usuarios de ambos grupos son diferentes.\")\n",
    "\n",
    "events = ['MainScreenAppear', 'OffersScreenAppear', 'CartScreenAppear', 'PaymentScreenSuccessful']\n",
    "for event in events:\n",
    "    proportion_event_test(data_2, event, 246, 247)"
   ]
  },
  {
   "cell_type": "markdown",
   "metadata": {},
   "source": [
    "#### 4.3.5 ¿Puedes confirmar que los grupos se dividieron correctamente?\n",
    "\n",
    "Después de ejecutar la prueba en los 2 grupos de control para todos los eventos, se puede concluir que los grupos fueron divididos correctamente, puesto que no presentan una diferencia estadistica significativa."
   ]
  },
  {
   "cell_type": "markdown",
   "metadata": {},
   "source": [
    "### 4.4 Fuentes alteradas. "
   ]
  },
  {
   "cell_type": "markdown",
   "metadata": {},
   "source": [
    "#### 4.4.1 Compara los resultados con los de cada uno de los grupos de control para cada evento de forma aislada. "
   ]
  },
  {
   "cell_type": "code",
   "execution_count": 2952,
   "metadata": {},
   "outputs": [
    {
     "name": "stdout",
     "output_type": "stream",
     "text": [
      "Evento: MainScreenAppear\n",
      "p-value para los grupos 246 y 248 : 0.05017735947467261\n",
      "No se pudo rechazar la hipótesis nula: no hay razón para pensar que las proporciones de los usuarios de ambos grupos son diferentes.\n",
      "Evento: OffersScreenAppear\n",
      "p-value para los grupos 246 y 248 : 0.4018783678293105\n",
      "No se pudo rechazar la hipótesis nula: no hay razón para pensar que las proporciones de los usuarios de ambos grupos son diferentes.\n",
      "Evento: CartScreenAppear\n",
      "p-value para los grupos 246 y 248 : 0.15317714002828975\n",
      "No se pudo rechazar la hipótesis nula: no hay razón para pensar que las proporciones de los usuarios de ambos grupos son diferentes.\n",
      "Evento: PaymentScreenSuccessful\n",
      "p-value para los grupos 246 y 248 : 0.3525997146847293\n",
      "No se pudo rechazar la hipótesis nula: no hay razón para pensar que las proporciones de los usuarios de ambos grupos son diferentes.\n"
     ]
    }
   ],
   "source": [
    "# Comparación de eventos entro los grupos 246 y 248\n",
    "for event in events:\n",
    "    proportion_event_test(data_2, event, 246, 248)"
   ]
  },
  {
   "cell_type": "code",
   "execution_count": 2953,
   "metadata": {},
   "outputs": [
    {
     "name": "stdout",
     "output_type": "stream",
     "text": [
      "Evento: MainScreenAppear\n",
      "p-value para los grupos 247 y 248 : 0.02487041865138062\n",
      "Rechazar la hipótesis nula: hay una diferencia significativa entre las proporciones de los usuarios de ambos grupos.\n",
      "Evento: OffersScreenAppear\n",
      "p-value para los grupos 247 y 248 : 0.8457349973456498\n",
      "No se pudo rechazar la hipótesis nula: no hay razón para pensar que las proporciones de los usuarios de ambos grupos son diferentes.\n",
      "Evento: CartScreenAppear\n",
      "p-value para los grupos 247 y 248 : 0.5276242246348386\n",
      "No se pudo rechazar la hipótesis nula: no hay razón para pensar que las proporciones de los usuarios de ambos grupos son diferentes.\n",
      "Evento: PaymentScreenSuccessful\n",
      "p-value para los grupos 247 y 248 : 0.7892940994616848\n",
      "No se pudo rechazar la hipótesis nula: no hay razón para pensar que las proporciones de los usuarios de ambos grupos son diferentes.\n"
     ]
    }
   ],
   "source": [
    "# Comparación de eventos entro los grupos 247 y 248\n",
    "for event in events:\n",
    "    proportion_event_test(data_2, event, 247, 248)"
   ]
  },
  {
   "cell_type": "markdown",
   "metadata": {},
   "source": [
    "#### 4.4.2 Compara los resultados con los resultados combinados de los grupos de control. "
   ]
  },
  {
   "cell_type": "code",
   "execution_count": 2954,
   "metadata": {},
   "outputs": [
    {
     "name": "stdout",
     "output_type": "stream",
     "text": [
      "Evento: MainScreenAppear\n",
      "p-value para los grupos 246 y 248 : 0.05017735947467261\n",
      "No se pudo rechazar la hipótesis nula: no hay razón para pensar que las proporciones de los usuarios de ambos grupos son diferentes.\n",
      "Evento: OffersScreenAppear\n",
      "p-value para los grupos 246 y 248 : 0.4018783678293105\n",
      "No se pudo rechazar la hipótesis nula: no hay razón para pensar que las proporciones de los usuarios de ambos grupos son diferentes.\n",
      "Evento: CartScreenAppear\n",
      "p-value para los grupos 246 y 248 : 0.15317714002828975\n",
      "No se pudo rechazar la hipótesis nula: no hay razón para pensar que las proporciones de los usuarios de ambos grupos son diferentes.\n",
      "Evento: PaymentScreenSuccessful\n",
      "p-value para los grupos 246 y 248 : 0.3525997146847293\n",
      "No se pudo rechazar la hipótesis nula: no hay razón para pensar que las proporciones de los usuarios de ambos grupos son diferentes.\n"
     ]
    }
   ],
   "source": [
    "# Comparación de eventos entre los grupos 246, 247 y 248\n",
    "for event in events:\n",
    "    proportion_event_test(data_2, event, (246 & 247), 248)"
   ]
  },
  {
   "cell_type": "markdown",
   "metadata": {},
   "source": [
    "#### 4.4.3 Conclusiones del experimento\n",
    "\n",
    "1. Los división de los grupos de control A fue correcta, puesto que en la prueba que compara los grupos 246 y 247 no hay diferencia estadistica significativa.\n",
    "2. La comparación de los grupos A (247) y B (248) presenta una diferencia significativa en la cantidad de usuarios que visitaron la página principal. Es claro que al ejecutar estas pruebas múltiples existe la probabilidad de cometer un error tipo I que aumenta con cada nueva prueba de hipótesis, y que nos puede llevar a concluir incorrectamente en que hay un efecto significativo cuando no lo hay."
   ]
  },
  {
   "cell_type": "markdown",
   "metadata": {},
   "source": [
    "### 4.5 ¿Qué nivel de significancia has establecido para probar las hipótesis estadísticas mencionadas anteriormente\n",
    "\n",
    "En las hipótesis anteriores decidí establecer el nivel de significacia en 0.5."
   ]
  },
  {
   "cell_type": "markdown",
   "metadata": {},
   "source": [
    "#### 4.5.1 Calcula cuántas pruebas de hipótesis estadísticas has realizado. Con un nivel de significancia estadística de 0.1, uno de cada 10 resultados podría ser falso. ¿Cuál debería ser el nivel de significancia? \n",
    "\n",
    "Se han realizado 16 pruebas: 4 eventos, 3 grupos más 4 pruebas más para grupos de control combinados.\n",
    "Para reducir la tasa de error por familia (\"family-wise error\") y corregir los niveles de significación requeridos, utilizaremos el método de Bonferroni y estableceremos alpha en 0.5/16"
   ]
  },
  {
   "cell_type": "markdown",
   "metadata": {},
   "source": [
    "#### 4.5.2 Ejecutamos los pasos anteriores con un alpha corregido."
   ]
  },
  {
   "cell_type": "code",
   "execution_count": 2955,
   "metadata": {},
   "outputs": [],
   "source": [
    "def proportion_event_test_bonferroni(data_2, event_name, group_1, group_2):\n",
    "\n",
    "    # Crear columnas con valores binarios: 1 si el usuario hizo el evento, 0 si no\n",
    "    data_2['event'] = data_2['event_name'].apply(lambda x: 1 if x == event_name else 0)\n",
    "    \n",
    "    # Almacenar en las variables successes_1 y successes_2 el número de usuarios que pasaron a la página de pagos exitoso\n",
    "    successes_1 = (data_2[data_2['exp_id'] == group_1].groupby('user_id')['event'].max()).sum()\n",
    "    successes_2 = (data_2[data_2['exp_id'] == group_2].groupby('user_id')['event'].max()).sum()\n",
    "\n",
    "    bonferroni_alpha = 0.05/16  # Establecemos valor de significancia\n",
    "    p1 = successes_1/control_1 # Proporción de éxito del grupo_1\n",
    "    p2 = successes_2/control_2 # Proporción de éxito del grupo_2\n",
    "    p_combined = (successes_1 + successes_2) / (control_1 + control_2) # Proporción de éxito de ambos grupos\n",
    "    difference = p1 - p2 # Diferencia entre las proporciones de los datasets\n",
    "\n",
    "    # Calcula la estadística en desviaciones estándar de la distribución normal estándar\n",
    "    z_value = difference / mth.sqrt(p_combined * (1 - p_combined) * (1/control_1 + 1/control_2))\n",
    "\n",
    "    distr = st.norm(0, 1) # Se establece la distribución normal estándar (media 0, desviación estándar 1)\n",
    "\n",
    "    p_value = (1 - distr.cdf(abs(z_value))) * 2\n",
    "    print(f'Evento: {event_name}') \n",
    "    print('p-value para los grupos', group_1, 'y', group_2,':', p_value)\n",
    "    if (p_value < bonferroni_alpha):\n",
    "        print(\"Rechazar la hipótesis nula: hay una diferencia significativa entre las proporciones de los usuarios de ambos grupos.\")\n",
    "    else:\n",
    "        print(\"No se pudo rechazar la hipótesis nula: no hay razón para pensar que las proporciones de los usuarios de ambos grupos son diferentes.\")\n",
    "\n",
    "events = ['MainScreenAppear', 'OffersScreenAppear', 'CartScreenAppear', 'PaymentScreenSuccessful']"
   ]
  },
  {
   "cell_type": "code",
   "execution_count": null,
   "metadata": {},
   "outputs": [
    {
     "name": "stdout",
     "output_type": "stream",
     "text": [
      "Evento: MainScreenAppear\n",
      "p-value para los grupos 246 y 247 : 0.7570597232046099\n",
      "No se pudo rechazar la hipótesis nula: no hay razón para pensar que las proporciones de los usuarios de ambos grupos son diferentes.\n",
      "Evento: OffersScreenAppear\n",
      "p-value para los grupos 246 y 247 : 0.2480954578522181\n",
      "No se pudo rechazar la hipótesis nula: no hay razón para pensar que las proporciones de los usuarios de ambos grupos son diferentes.\n",
      "Evento: CartScreenAppear\n",
      "p-value para los grupos 246 y 247 : 0.22883372237997213\n",
      "No se pudo rechazar la hipótesis nula: no hay razón para pensar que las proporciones de los usuarios de ambos grupos son diferentes.\n",
      "Evento: PaymentScreenSuccessful\n",
      "p-value para los grupos 246 y 247 : 0.11456679313141849\n",
      "No se pudo rechazar la hipótesis nula: no hay razón para pensar que las proporciones de los usuarios de ambos grupos son diferentes.\n"
     ]
    }
   ],
   "source": [
    "# Comparación de eventos entro los grupos 246 y 247 con la corrección de Bonferroni\n",
    "for event in events:\n",
    "    proportion_event_test_bonferroni(data_2, event, 246, 247) "
   ]
  },
  {
   "cell_type": "code",
   "execution_count": null,
   "metadata": {},
   "outputs": [
    {
     "name": "stdout",
     "output_type": "stream",
     "text": [
      "Evento: MainScreenAppear\n",
      "p-value para los grupos 246 y 248 : 0.05017735947467261\n",
      "No se pudo rechazar la hipótesis nula: no hay razón para pensar que las proporciones de los usuarios de ambos grupos son diferentes.\n",
      "Evento: OffersScreenAppear\n",
      "p-value para los grupos 246 y 248 : 0.4018783678293105\n",
      "No se pudo rechazar la hipótesis nula: no hay razón para pensar que las proporciones de los usuarios de ambos grupos son diferentes.\n",
      "Evento: CartScreenAppear\n",
      "p-value para los grupos 246 y 248 : 0.15317714002828975\n",
      "No se pudo rechazar la hipótesis nula: no hay razón para pensar que las proporciones de los usuarios de ambos grupos son diferentes.\n",
      "Evento: PaymentScreenSuccessful\n",
      "p-value para los grupos 246 y 248 : 0.3525997146847293\n",
      "No se pudo rechazar la hipótesis nula: no hay razón para pensar que las proporciones de los usuarios de ambos grupos son diferentes.\n"
     ]
    }
   ],
   "source": [
    "# Comparación de eventos entro los grupos 246 y 248 con la corrección de Bonferroni\n",
    "for event in events:\n",
    "    proportion_event_test_bonferroni(data_2, event, 246, 248)"
   ]
  },
  {
   "cell_type": "code",
   "execution_count": null,
   "metadata": {},
   "outputs": [
    {
     "name": "stdout",
     "output_type": "stream",
     "text": [
      "Evento: MainScreenAppear\n",
      "p-value para los grupos 247 y 248 : 0.02487041865138062\n",
      "No se pudo rechazar la hipótesis nula: no hay razón para pensar que las proporciones de los usuarios de ambos grupos son diferentes.\n",
      "Evento: OffersScreenAppear\n",
      "p-value para los grupos 247 y 248 : 0.8457349973456498\n",
      "No se pudo rechazar la hipótesis nula: no hay razón para pensar que las proporciones de los usuarios de ambos grupos son diferentes.\n",
      "Evento: CartScreenAppear\n",
      "p-value para los grupos 247 y 248 : 0.5276242246348386\n",
      "No se pudo rechazar la hipótesis nula: no hay razón para pensar que las proporciones de los usuarios de ambos grupos son diferentes.\n",
      "Evento: PaymentScreenSuccessful\n",
      "p-value para los grupos 247 y 248 : 0.7892940994616848\n",
      "No se pudo rechazar la hipótesis nula: no hay razón para pensar que las proporciones de los usuarios de ambos grupos son diferentes.\n"
     ]
    }
   ],
   "source": [
    "# Comparación de eventos entro los grupos 247 y 248 con la corrección de Bonferroni\n",
    "for event in events:\n",
    "    proportion_event_test_bonferroni(data_2, event, 247, 248)"
   ]
  },
  {
   "cell_type": "code",
   "execution_count": null,
   "metadata": {},
   "outputs": [
    {
     "name": "stdout",
     "output_type": "stream",
     "text": [
      "Evento: MainScreenAppear\n",
      "p-value para los grupos 246 y 248 : 0.05017735947467261\n",
      "No se pudo rechazar la hipótesis nula: no hay razón para pensar que las proporciones de los usuarios de ambos grupos son diferentes.\n",
      "Evento: OffersScreenAppear\n",
      "p-value para los grupos 246 y 248 : 0.4018783678293105\n",
      "No se pudo rechazar la hipótesis nula: no hay razón para pensar que las proporciones de los usuarios de ambos grupos son diferentes.\n",
      "Evento: CartScreenAppear\n",
      "p-value para los grupos 246 y 248 : 0.15317714002828975\n",
      "No se pudo rechazar la hipótesis nula: no hay razón para pensar que las proporciones de los usuarios de ambos grupos son diferentes.\n",
      "Evento: PaymentScreenSuccessful\n",
      "p-value para los grupos 246 y 248 : 0.3525997146847293\n",
      "No se pudo rechazar la hipótesis nula: no hay razón para pensar que las proporciones de los usuarios de ambos grupos son diferentes.\n"
     ]
    }
   ],
   "source": [
    "# Comparación de eventos entro los grupos 246, 247 y 248 con la corrección de Bonferroni\n",
    "for event in events:\n",
    "    proportion_event_test_bonferroni(data_2, event, (246 & 247), 248)"
   ]
  },
  {
   "cell_type": "markdown",
   "metadata": {},
   "source": [
    "#### 4.5.3 Conclusiones del experimento"
   ]
  },
  {
   "cell_type": "markdown",
   "metadata": {},
   "source": [
    "1. Después de ejecutar nuevamente al pruebas con el alpha corregido a través del método de Bonferroni, nos damos cuenta que efectivamente el rechazo de la hipótesis nula en algunas de las pruebas fueron falsos positivos debido a la acumulación de la probabilidad de error.\n",
    "2. En las 16 pruebas realizadas, no hay razón para rechazar las hipótesis nula, por lo tanto las proporciones de los usuarios en los grupos 246, 247 y 248 no son diferentes y la aletoreidad con la que se distribuyeron fue correcta."
   ]
  }
 ],
 "metadata": {
  "kernelspec": {
   "display_name": "Python 3",
   "language": "python",
   "name": "python3"
  },
  "language_info": {
   "codemirror_mode": {
    "name": "ipython",
    "version": 3
   },
   "file_extension": ".py",
   "mimetype": "text/x-python",
   "name": "python",
   "nbconvert_exporter": "python",
   "pygments_lexer": "ipython3",
   "version": "3.12.4"
  }
 },
 "nbformat": 4,
 "nbformat_minor": 2
}
